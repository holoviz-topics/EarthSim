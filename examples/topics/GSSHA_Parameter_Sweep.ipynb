{
 "cells": [
  {
   "cell_type": "markdown",
   "metadata": {},
   "source": [
    "Because the simulation workflow outlined in [GSSHA_Workflow](GSSHA_Workflow.ipynb) is fully scripted, supporting but not requiring any user interaction, it's straightforward to run parameter sweeps and other automated tasks.  Here we demonstrate running simulations covering a range of rain intensities, to show how to collect and interpret data across a range of parameter values."
   ]
  },
  {
   "cell_type": "code",
   "execution_count": null,
   "metadata": {},
   "outputs": [],
   "source": [
    "from datetime import timedelta\n",
    "import os\n",
    "import glob\n",
    "\n",
    "import numpy as np\n",
    "import xarray as xr\n",
    "import geoviews as gv\n",
    "import holoviews as hv\n",
    "import quest\n",
    "import cartopy.crs as ccrs\n",
    "\n",
    "from gsshapy.modeling import GSSHAFramework\n",
    "\n",
    "import earthsim.gssha as eagssha\n",
    "import earthsim.gssha.model as models\n",
    "from earthsim.gssha import get_file_from_quest\n",
    "from earthsim.io import open_gssha, get_ccrs\n",
    "\n",
    "hv.extension('bokeh')"
   ]
  },
  {
   "cell_type": "markdown",
   "metadata": {},
   "source": [
    "## Set up simulation"
   ]
  },
  {
   "cell_type": "code",
   "execution_count": null,
   "metadata": {},
   "outputs": [],
   "source": [
    "def get_simulation(**params):\n",
    "    name = 'vicksburg_parameterized_%s' % '_'.join(['%s:%s' % item for item in sorted(params.items())])\n",
    "    data_dir = 'vicksburg_south'\n",
    "    model_creator = eagssha.CreateGSSHAModel(name='Vicksburg South Model Creator',\n",
    "                                            mask_shapefile='../data/vicksburg_watershed/watershed_boundary.shp',\n",
    "                                            grid_cell_size=90, project_name=name)\n",
    "    sim = eagssha.Simulation(name='Vicksburg South Simulation', simulation_duration=60*60,\n",
    "                              rain_duration=30*60, model_creator=model_creator, **params)\n",
    "    if data_dir not in quest.api.get_collections():\n",
    "        quest.api.new_collection(data_dir)\n",
    "    sim.model_creator.roughness = models.GriddedRoughnessID(\n",
    "        land_use_grid=get_file_from_quest(data_dir, sim.land_use_service, 'landuse', sim.model_creator.mask_shapefile),\n",
    "        land_use_grid_id=sim.land_use_grid_id)\n",
    "    sim.model_creator.elevation_grid_path = get_file_from_quest(data_dir, sim.elevation_service, 'elevation', sim.model_creator.mask_shapefile)\n",
    "\n",
    "    model = sim.model_creator()\n",
    "    model.project_manager.setCard('FLOOD_GRID',\n",
    "                                  '{0}.fgd'.format(sim.model_creator.project_name),\n",
    "                                  add_quotes=True)\n",
    "    model.project_manager.setCard('DEPTH', '.', add_quotes=True)\n",
    "    model.project_manager.setCard('MAP_FREQ', '1')\n",
    "    model.write()\n",
    "    return sim\n",
    "\n",
    "\n",
    "def run_simulation(sim):\n",
    "    project_path = os.path.join(sim.model_creator.project_base_directory, sim.model_creator.project_name)\n",
    "    gr = GSSHAFramework(\"gssha\",\n",
    "        project_path,\n",
    "        \"{0}.prj\".format(sim.model_creator.project_name),\n",
    "        gssha_simulation_start=sim.simulation_start,\n",
    "        gssha_simulation_duration=timedelta(seconds=sim.simulation_duration),\n",
    "    )\n",
    "    gr.event_manager.add_uniform_precip_event(sim.rain_intensity, \n",
    "                                              timedelta(seconds=sim.rain_duration))\n",
    "    return convert_xarray(gr.run())\n",
    "\n",
    "\n",
    "def convert_xarray(event_directory):\n",
    "    depth_nc = os.path.join(event_directory, 'depths.nc')\n",
    "    if not os.path.isfile(depth_nc):\n",
    "        # Load depth data files\n",
    "        depth_map = hv.HoloMap(kdims=['Minute'])\n",
    "        for fname in glob.glob(os.path.join(event_directory, 'depth.*.asc')):\n",
    "            depth_arr = open_gssha(fname)\n",
    "            minute = int(fname.split('.')[-2])\n",
    "            # NOTE: Due to precision issues not all empty cells match the NaN value properly, fix later\n",
    "            depth_arr.data[depth_arr.data==depth_arr.data[0,0]] = np.NaN\n",
    "            depth_map[minute] = hv.Image(depth_arr)\n",
    "\n",
    "        # Convert data to an xarray and save as NetCDF\n",
    "        arrays = []\n",
    "        for minute, img in depth_map.items():\n",
    "            ds = hv.Dataset(img)\n",
    "            arr = ds.data.z.assign_coords(minute=minute)\n",
    "            arrays.append(arr)\n",
    "        depths = xr.concat(arrays, 'minute')\n",
    "        depths.to_netcdf(depth_nc)\n",
    "    else:\n",
    "        depths = xr.open_dataset(depth_nc)\n",
    "    return depths"
   ]
  },
  {
   "cell_type": "markdown",
   "metadata": {},
   "source": [
    "## Set up models"
   ]
  },
  {
   "cell_type": "code",
   "execution_count": null,
   "metadata": {},
   "outputs": [],
   "source": [
    "intensities = [128, 256, 512]\n",
    "simulations = {intensity: get_simulation(rain_intensity=intensity) for intensity in intensities}"
   ]
  },
  {
   "cell_type": "markdown",
   "metadata": {},
   "source": [
    "## Run models"
   ]
  },
  {
   "cell_type": "code",
   "execution_count": null,
   "metadata": {},
   "outputs": [],
   "source": [
    "evaluated = {i: run_simulation(sim) for i, sim in simulations.items()}"
   ]
  },
  {
   "cell_type": "markdown",
   "metadata": {},
   "source": [
    "## Load simulation data"
   ]
  },
  {
   "cell_type": "code",
   "execution_count": null,
   "metadata": {},
   "outputs": [],
   "source": [
    "arrays = []\n",
    "for i, xarr in sorted(evaluated.items()):\n",
    "    arrays.append(xarr.assign_coords(intensity=i))\n",
    "xarr = xr.concat(arrays, 'intensity')"
   ]
  },
  {
   "cell_type": "code",
   "execution_count": null,
   "metadata": {},
   "outputs": [],
   "source": [
    "sim = simulations[512]\n",
    "CRS = get_ccrs(os.path.join(sim.model_creator.project_name,\n",
    "                            sim.model_creator.project_name+'_prj.pro'))"
   ]
  },
  {
   "cell_type": "markdown",
   "metadata": {},
   "source": [
    "## Display simulation data"
   ]
  },
  {
   "cell_type": "code",
   "execution_count": null,
   "metadata": {},
   "outputs": [],
   "source": [
    "%%opts Image [width=600 height=400 logz=True colorbar=True] (cmap='viridis')\n",
    "ds = gv.Dataset(xarr, crs=CRS)\n",
    "tiles = gv.WMTS('http://c.tile.openstreetmap.org/{Z}/{X}/{Y}.png', crs=ccrs.PlateCarree(),\n",
    "                extents=(-91, 32.2, -90.8, 32.4))\n",
    "tiles * ds.to(gv.Image, ['x', 'y'], dynamic=True).redim.range(z=(0, 1))"
   ]
  },
  {
   "cell_type": "markdown",
   "metadata": {},
   "source": [
    "Here the user can explore plots across the various minute values and intensity settings to see how the results differ. In this example, all of the simulations were launched from a single notebook file, which makes it simple to explain how it works but in general one can use a parameterized notebook file and launch multiple independent runs, each filling out one notebook, perhaps on many nodes of an HPC system (e.g. using [Lancet](http://github.com/ioam/lancet)).  As the jobs complete, the output can be collated and then displayed for the user as above."
   ]
  }
 ],
 "metadata": {
  "language_info": {
   "name": "python",
   "pygments_lexer": "ipython3"
  }
 },
 "nbformat": 4,
 "nbformat_minor": 2
}
