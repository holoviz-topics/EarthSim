{
 "cells": [
  {
   "cell_type": "markdown",
   "metadata": {},
   "source": [
    "This notebook demonstrates one way to use the Bokeh/HoloViews [Drawing Tools](Drawing_Tools.ipynb) and the EarthSim [Annotators](Annotators.ipynb) to define polygons and refine points to specify how to generate a ``FiligreeMesh`` irregular triangular grid covering an area of a map. This mesh can then be used as an input to a simulator that will use the indicated level of detail in each region of a map."
   ]
  },
  {
   "cell_type": "code",
   "execution_count": null,
   "metadata": {},
   "outputs": [],
   "source": [
    "import holoviews as hv\n",
    "import geoviews as gv\n",
    "import cartopy.crs as ccrs\n",
    "import parambokeh\n",
    "\n",
    "from earthsim.annotators import PointAnnotator, GeoAnnotator\n",
    "from earthsim.filigree import FiligreeMesh, FiligreeMeshDashboard\n",
    "\n",
    "hv.extension('bokeh')"
   ]
  },
  {
   "cell_type": "markdown",
   "metadata": {},
   "source": [
    "## Simple workflow\n",
    "\n",
    "1. Edit the existing polygon or delete it and draw one or more polygons of your own\n",
    "2. Draw one or more refine points within this region, adding a numeric size for each one by editing the 'Size' column in the subsequent table."
   ]
  },
  {
   "cell_type": "code",
   "execution_count": null,
   "metadata": {},
   "outputs": [],
   "source": [
    "%%opts Polygons (color='red' alpha=0.5 selection_alpha=0.8 nonselection_alpha=0.2) \n",
    "%%opts Points (size=10 nonselection_alpha=0.5)\n",
    "bounds = hv.Bounds(gv.util.project_extents(PointAnnotator.extent, ccrs.PlateCarree(), ccrs.GOOGLE_MERCATOR))\n",
    "annot = PointAnnotator(polys=[bounds])\n",
    "annot.view()"
   ]
  },
  {
   "cell_type": "markdown",
   "metadata": {},
   "source": [
    "The ``FiligreeMesh`` class accepts a ``GeoAnnotator`` and adds the polygons and refine points drawn using it to an underlying filigree.FiligreeMesh. Once the polygons and points are added we can create a constant size function and declare the mesh size and then run and view the resultant mesh:"
   ]
  },
  {
   "cell_type": "code",
   "execution_count": null,
   "metadata": {},
   "outputs": [],
   "source": [
    "%%opts RGB [width=900 height=600] (node_size=0 edge_line_width=0.1)\n",
    "%%opts Points (size=10 color='blue') [tools=['hover']]\n",
    "mesh = FiligreeMesh(draw_helper=annot)\n",
    "mesh.mesh.create_constant_size_function(500, 5)\n",
    "mesh.mesh.set_outside_mesh_size(500)\n",
    "mesh.view()"
   ]
  },
  {
   "cell_type": "markdown",
   "metadata": {},
   "source": [
    "Here sizes should be in meters.  Note that as of this writing, if you select size values that, when combined with the location of your point, extend beyond the boundaries of the polygon, Filigree will ignore that point, which can be confusing.\n",
    "\n",
    "## Dashboard\n",
    "\n",
    "Instead of splitting the above workflow across two notebook cells, we can instead organize it as a single plot, which computes the mesh whenever we press a button."
   ]
  },
  {
   "cell_type": "code",
   "execution_count": null,
   "metadata": {},
   "outputs": [],
   "source": [
    "%%opts Polygons (color='red' alpha=0.5 selection_alpha=0.8 nonselection_alpha=0.2) Layout [shared_datasource=True]\n",
    "%%opts Points (size=10 nonselection_alpha=0.5)\n",
    "annot = PointAnnotator()\n",
    "dashboard = FiligreeMeshDashboard(draw_helper=annot)\n",
    "dashboard.mesh.create_constant_size_function(500, 5)\n",
    "dashboard.mesh.set_outside_mesh_size(500)\n",
    "parambokeh.Widgets(dashboard)\n",
    "dashboard.view()"
   ]
  },
  {
   "cell_type": "markdown",
   "metadata": {},
   "source": [
    "These examples should help demonstrate how to build an application for specifying a mesh, but they are likely to need additional inputs and interactions to cover all expected use cases."
   ]
  }
 ],
 "metadata": {
  "language_info": {
   "name": "python",
   "pygments_lexer": "ipython3"
  }
 },
 "nbformat": 4,
 "nbformat_minor": 2
}
