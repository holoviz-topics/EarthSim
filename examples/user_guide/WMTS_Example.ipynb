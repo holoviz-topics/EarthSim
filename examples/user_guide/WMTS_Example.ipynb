{
 "cells": [
  {
   "cell_type": "code",
   "execution_count": null,
   "metadata": {},
   "outputs": [],
   "source": [
    "# This example needs the following packages: earthsim and quest\n",
    "from holoviews.streams import PointDraw, PolyEdit, BoxEdit, PolyDraw\n",
    "from requests.packages.urllib3.util.retry import Retry\n",
    "from IPython.display import display, clear_output\n",
    "from ipywidgets import widgets, HBox, Label\n",
    "from requests.adapters import HTTPAdapter\n",
    "from ipywidgets import widgets, Layout\n",
    "from rasterio.io import MemoryFile\n",
    "from itertools import product\n",
    "from paramnb import Widgets\n",
    "from io import BytesIO\n",
    "from PIL import Image\n",
    "import cartopy.crs as ccrs\n",
    "import holoviews as hv\n",
    "import geoviews as gv\n",
    "import numpy as np\n",
    "import requests\n",
    "import rasterio\n",
    "import warnings\n",
    "import quest\n",
    "import math\n",
    "import sys\n",
    "import os\n",
    "\n",
    "hv.extension('bokeh')\n",
    "warnings.simplefilter('ignore')\n",
    "warnings.filterwarnings('ignore')\n",
    "# Helpful URLS:\n",
    "    # https://stackoverflow.com/questions/15431044/can-i-set-max-retries-for-requests-request"
   ]
  },
  {
   "cell_type": "code",
   "execution_count": null,
   "metadata": {},
   "outputs": [],
   "source": [
    "url_list = ['http://c.tile.openstreetmap.org/{Z}/{X}/{Y}.png',\n",
    "            'https://s.basemaps.cartocdn.com/light_all/{Z}/{X}/{Y}.png',\n",
    "            'http://tile.stamen.com/terrain/{Z}/{X}/{Y}.png',\n",
    "            'https://server.arcgisonline.com/ArcGIS/rest/services/World_Imagery/MapServer/tile/{Z}/{Y}/{X}',\n",
    "            'https://server.arcgisonline.com/ArcGIS/rest/services/World_Topo_Map/MapServer/tile/{Z}/{Y}/{X}',\n",
    "            'https://server.arcgisonline.com/ArcGIS/rest/services/World_Terrain_Base/MapServer/tile/{Z}/{Y}/{X}',\n",
    "            'https://server.arcgisonline.com/ArcGIS/rest/services/World_Street_Map/MapServer/tile/{Z}/{Y}/{X}',\n",
    "            'https://server.arcgisonline.com/ArcGIS/rest/services/World_Shaded_Relief/MapServer/tile/{Z}/{Y}/{X}',\n",
    "            'https://server.arcgisonline.com/ArcGIS/rest/services/World_Physical_Map/MapServer/tile/{Z}/{Y}/{X}',\n",
    "            'https://server.arcgisonline.com/ArcGIS/rest/services/USA_Topo_Maps/MapServer/tile/{Z}/{Y}/{X}',\n",
    "            'https://server.arcgisonline.com/ArcGIS/rest/services/Ocean_Basemap/MapServer/tile/{Z}/{Y}/{X}',\n",
    "            'https://server.arcgisonline.com/ArcGIS/rest/services/NatGeo_World_Map/MapServer/tile/{Z}/{Y}/{X}']\n",
    "\n",
    "url_selection = widgets.Dropdown(value=url_list[0],options=url_list, description='Tile URL:', disabled=False, \n",
    "                              layout=Layout(width='75%', height='40px'))\n",
    "display(url_selection)\n",
    "\n",
    "zoom_widget_value = widgets.IntSlider(value=0,min=0,max=19,step=1,description='Zoom Level:',orientation='horizontal')\n",
    "display(zoom_widget_value)"
   ]
  },
  {
   "cell_type": "code",
   "execution_count": null,
   "metadata": {},
   "outputs": [],
   "source": [
    "url = url_selection.value\n",
    "tiles = gv.WMTS(url, extents=(-180, -90, 180, 90), crs=ccrs.PlateCarree()).options(width=500, height=500)\n",
    "boxes = gv.Polygons([], crs=ccrs.PlateCarree()).options(fill_alpha=0.4, color='blue', line_color='blue', line_width=2)\n",
    "box_stream = BoxEdit(source=boxes)\n",
    "tiles * boxes"
   ]
  },
  {
   "cell_type": "code",
   "execution_count": null,
   "metadata": {},
   "outputs": [],
   "source": [
    "basemap_features = quest.api.get_features('svc://basemap:Web Mercator Tile Service')\n",
    "collection_name = 'the_demo2'\n",
    "if collection_name in quest.api.get_collections():\n",
    "    pass\n",
    "else:\n",
    "    quest.api.new_collection(collection_name)\n",
    "\n",
    "collection_feature = quest.api.add_features(collection_name, basemap_features[0])\n",
    "collection_feature"
   ]
  },
  {
   "cell_type": "code",
   "execution_count": null,
   "metadata": {},
   "outputs": [],
   "source": [
    "if box_stream.element:\n",
    "    xs, ys = box_stream.element.array().T\n",
    "    bbox = list(gv.util.project_extents((xs[0], ys[0], xs[2], ys[1]), ccrs.GOOGLE_MERCATOR, ccrs.PlateCarree()))\n",
    "    print(bbox)\n",
    "else:\n",
    "    bbox = [-90.88, -32.35, -90.87, -32.36]\n",
    "options = {'url': url_selection.value, \n",
    "           'zoom_level': zoom_widget_value.value, \n",
    "           'bbox': bbox, \n",
    "          }\n",
    "staged_id = quest.api.stage_for_download(collection_feature, options=options)"
   ]
  },
  {
   "cell_type": "code",
   "execution_count": null,
   "metadata": {},
   "outputs": [],
   "source": [
    "quest.api.download_datasets(staged_id)"
   ]
  },
  {
   "cell_type": "code",
   "execution_count": null,
   "metadata": {},
   "outputs": [],
   "source": [
    "meta = quest.api.get_metadata(staged_id)"
   ]
  },
  {
   "cell_type": "code",
   "execution_count": null,
   "metadata": {},
   "outputs": [],
   "source": [
    "meta"
   ]
  },
  {
   "cell_type": "code",
   "execution_count": null,
   "metadata": {},
   "outputs": [],
   "source": []
  }
 ],
 "metadata": {
  "kernelspec": {
   "display_name": "Python 3",
   "language": "python",
   "name": "python3"
  },
  "language_info": {
   "codemirror_mode": {
    "name": "ipython",
    "version": 3
   },
   "file_extension": ".py",
   "mimetype": "text/x-python",
   "name": "python",
   "nbconvert_exporter": "python",
   "pygments_lexer": "ipython3",
   "version": "3.6.5"
  }
 },
 "nbformat": 4,
 "nbformat_minor": 2
}
